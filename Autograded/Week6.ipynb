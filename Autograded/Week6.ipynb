{
 "cells": [
  {
   "cell_type": "markdown",
   "metadata": {
    "deletable": false,
    "editable": false,
    "nbgrader": {
     "cell_type": "markdown",
     "checksum": "79a8e139b20387c0f405d50a179f6f03",
     "grade": false,
     "grade_id": "cell-66a1909b08ebf222",
     "locked": true,
     "schema_version": 3,
     "solution": false,
     "task": false
    }
   },
   "source": [
    "# Module 6: Autograded Assignment"
   ]
  },
  {
   "cell_type": "markdown",
   "metadata": {
    "deletable": false,
    "editable": false,
    "nbgrader": {
     "cell_type": "markdown",
     "checksum": "f8348946ad87bb12c262043adc31f15a",
     "grade": false,
     "grade_id": "cell-a0418f112afa85fb",
     "locked": true,
     "schema_version": 3,
     "solution": false,
     "task": false
    }
   },
   "source": [
    "### Outline:\n",
    "**Here are the objectives of this assignment:**\n",
    "\n",
    "1. Apply model selection techniques to various data sets.\n",
    "2. Learn how to calculate and interpret different model selection criterion.\n",
    "3. Prove to yourself that you have learned how to apply, interpret and optimize statistical models.\n",
    "4. Apply variance inflica\n",
    "\n",
    "**Here are some general tips:**\n",
    "\n",
    "1. Read the questions carefully to understand what is being asked.\n",
    "2. When you feel that your work is completed, feel free to hit the ```Validate``` button to see your results on the *visible* unit tests. If you have questions about unit testing, please refer to the \"Module 0: Introduction\" notebook provided as an optional resource for this course. In this assignment, there are hidden unit tests that check your code. You will not recieve any feedback for failed hidden unit tests until the assignment is submitted. **Do not misinterpret the feedback from visible unit tests as all possible tests for a given question--write your code carefully!**\n",
    "3. Before submitting, we recommend restarting the kernel and running all the cells in order that they appear to make sure that there are no additional bugs in your code.\n",
    "4. There are 70 total points in this assignment."
   ]
  },
  {
   "cell_type": "code",
   "execution_count": 2,
   "metadata": {
    "deletable": false,
    "editable": false,
    "nbgrader": {
     "cell_type": "code",
     "checksum": "376244cec60e1033b38fb3adea9fe678",
     "grade": false,
     "grade_id": "cell-a8fedd71ba965332",
     "locked": true,
     "schema_version": 3,
     "solution": false,
     "task": false
    }
   },
   "outputs": [
    {
     "name": "stderr",
     "output_type": "stream",
     "text": [
      "── \u001b[1mAttaching packages\u001b[22m ─────────────────────────────────────── tidyverse 1.3.0 ──\n",
      "\n",
      "\u001b[32m✔\u001b[39m \u001b[34mggplot2\u001b[39m 3.3.0     \u001b[32m✔\u001b[39m \u001b[34mpurrr  \u001b[39m 0.3.4\n",
      "\u001b[32m✔\u001b[39m \u001b[34mtibble \u001b[39m 3.0.1     \u001b[32m✔\u001b[39m \u001b[34mdplyr  \u001b[39m 0.8.5\n",
      "\u001b[32m✔\u001b[39m \u001b[34mtidyr  \u001b[39m 1.0.2     \u001b[32m✔\u001b[39m \u001b[34mstringr\u001b[39m 1.4.0\n",
      "\u001b[32m✔\u001b[39m \u001b[34mreadr  \u001b[39m 1.3.1     \u001b[32m✔\u001b[39m \u001b[34mforcats\u001b[39m 0.5.0\n",
      "\n",
      "── \u001b[1mConflicts\u001b[22m ────────────────────────────────────────── tidyverse_conflicts() ──\n",
      "\u001b[31m✖\u001b[39m \u001b[34mdplyr\u001b[39m::\u001b[32mfilter()\u001b[39m  masks \u001b[34mstats\u001b[39m::filter()\n",
      "\u001b[31m✖\u001b[39m \u001b[34mpurrr\u001b[39m::\u001b[32mis_null()\u001b[39m masks \u001b[34mtestthat\u001b[39m::is_null()\n",
      "\u001b[31m✖\u001b[39m \u001b[34mdplyr\u001b[39m::\u001b[32mlag()\u001b[39m     masks \u001b[34mstats\u001b[39m::lag()\n",
      "\u001b[31m✖\u001b[39m \u001b[34mdplyr\u001b[39m::\u001b[32mmatches()\u001b[39m masks \u001b[34mtidyr\u001b[39m::matches(), \u001b[34mtestthat\u001b[39m::matches()\n",
      "\n",
      "\n",
      "Attaching package: ‘MASS’\n",
      "\n",
      "\n",
      "The following object is masked from ‘package:dplyr’:\n",
      "\n",
      "    select\n",
      "\n",
      "\n"
     ]
    }
   ],
   "source": [
    "# This cell loads the required packages\n",
    "library(testthat)\n",
    "library(tidyverse)\n",
    "library(ggplot2)\n",
    "library(leaps)\n",
    "library(MASS)\n",
    "library(faraway)"
   ]
  },
  {
   "cell_type": "code",
   "execution_count": 3,
   "metadata": {},
   "outputs": [],
   "source": [
    "#missing 10 from 1a, 1b, and 2b"
   ]
  },
  {
   "cell_type": "markdown",
   "metadata": {
    "deletable": false,
    "editable": false,
    "nbgrader": {
     "cell_type": "markdown",
     "checksum": "86b5006145e6d60599b8ce4016e8e4b6",
     "grade": false,
     "grade_id": "cell-7cc32b37fe5f372c",
     "locked": true,
     "schema_version": 3,
     "solution": false,
     "task": false
    }
   },
   "source": [
    "# Problem 1: Model Selection Criterion\n",
    "\n",
    "In this lesson, we will perform both the full and partial F-tests in R.\n",
    "\n",
    "Recall again, the Amazon book data. The data consists of data on $n = 325$ books and includes measurements of:\n",
    "\n",
    "- `aprice`: The price listed on Amazon (dollars)\n",
    "\n",
    "\n",
    "- `lprice`: The book's list price (dollars)\n",
    "\n",
    "\n",
    "- `weight`: The book's weight (ounces)\n",
    "\n",
    "\n",
    "- `pages`: The number of pages in the book\n",
    "\n",
    "\n",
    "- `height`: The book's height (inches)\n",
    "\n",
    "\n",
    "- `width`: The book's width (inches)\n",
    "\n",
    "\n",
    "- `thick`: The thickness of the book (inches)\n",
    "\n",
    "\n",
    "- `cover`: Whether the book is a hard cover of paperback.\n",
    "\n",
    "\n",
    "- And other variables...\n",
    "\n",
    "Before we do any model selection, we'll repeat the data cleaning methods from the previous lesson on this dataset. For all tests in this lesson, let $\\alpha = 0.05$."
   ]
  },
  {
   "cell_type": "code",
   "execution_count": 4,
   "metadata": {
    "deletable": false,
    "editable": false,
    "nbgrader": {
     "cell_type": "code",
     "checksum": "133bebb9348aae4882fabcc5e9e4d5aa",
     "grade": false,
     "grade_id": "cell-12e578eabae9f154",
     "locked": true,
     "schema_version": 3,
     "solution": false,
     "task": false
    }
   },
   "outputs": [
    {
     "data": {
      "text/plain": [
       "     aprice            lprice           pages           width      \n",
       " Min.   :  0.770   Min.   :  1.50   Min.   : 24.0   Min.   :4.100  \n",
       " 1st Qu.:  8.598   1st Qu.: 13.95   1st Qu.:208.0   1st Qu.:5.200  \n",
       " Median : 10.200   Median : 15.00   Median :320.0   Median :5.400  \n",
       " Mean   : 13.010   Mean   : 18.58   Mean   :335.8   Mean   :5.584  \n",
       " 3rd Qu.: 13.033   3rd Qu.: 19.95   3rd Qu.:416.0   3rd Qu.:5.900  \n",
       " Max.   :139.950   Max.   :139.95   Max.   :896.0   Max.   :9.500  \n",
       "     weight          height           thick       cover  \n",
       " Min.   : 1.20   Min.   : 5.100   Min.   :0.100   H: 89  \n",
       " 1st Qu.: 7.80   1st Qu.: 7.900   1st Qu.:0.600   P:235  \n",
       " Median :11.20   Median : 8.100   Median :0.900          \n",
       " Mean   :12.48   Mean   : 8.161   Mean   :0.908          \n",
       " 3rd Qu.:16.00   3rd Qu.: 8.500   3rd Qu.:1.100          \n",
       " Max.   :35.20   Max.   :12.100   Max.   :2.100          "
      ]
     },
     "metadata": {},
     "output_type": "display_data"
    }
   ],
   "source": [
    "amazon = read.csv(\"amazon.txt\", sep=\"\\t\")\n",
    "df = data.frame(aprice = amazon$Amazon.Price, lprice = as.numeric(amazon$List.Price),  \n",
    "                pages = amazon$NumPages, width = amazon$Width, weight = amazon$Weight..oz,  \n",
    "                height = amazon$Height, thick = amazon$Thick, cover = amazon$Hard..Paper)\n",
    "\n",
    "df$lprice[which(is.na(df$lprice))] = mean(df$lprice, na.rm = TRUE)\n",
    "df$weight[which(is.na(df$weight))] = mean(df$weight, na.rm = TRUE)\n",
    "df$pages[which(is.na(df$pages))] = mean(df$pages, na.rm = TRUE)\n",
    "df$height[which(is.na(df$height))] = mean(df$height, na.rm = TRUE)\n",
    "df$width[which(is.na(df$width))] = mean(df$width, na.rm = TRUE)\n",
    "df$thick[which(is.na(df$thick))] = mean(df$thick, na.rm = TRUE)\n",
    "df = df[-205,]\n",
    "summary(df)"
   ]
  },
  {
   "cell_type": "markdown",
   "metadata": {
    "deletable": false,
    "editable": false,
    "nbgrader": {
     "cell_type": "markdown",
     "checksum": "f10fb240f1ed2d790b35aae94eb65d72",
     "grade": false,
     "grade_id": "cell-d7532c7c90e0a692",
     "locked": true,
     "schema_version": 3,
     "solution": false,
     "task": false
    }
   },
   "source": [
    "### 1. (a) The Model (15 points)\n",
    "\n",
    "We want to determine which predictors impact the Amazon list price. Begin by fitting the full model.\n",
    "\n",
    "Fit a model named `lmod.full` to the data with `aprice` as the response and all other columns as predictors. Then calculate the AIC, BIC and adjusted $R^2$ for this model. Store these values in `AIC.full`, `BIC.full` and `adj.R2.full` respectively. "
   ]
  },
  {
   "cell_type": "code",
   "execution_count": 5,
   "metadata": {
    "deletable": false,
    "nbgrader": {
     "cell_type": "code",
     "checksum": "dbb5f56c58658375bb11bed25c2ac785",
     "grade": false,
     "grade_id": "cell-c75b99ddebd26d3e",
     "locked": false,
     "schema_version": 3,
     "solution": true,
     "task": false
    }
   },
   "outputs": [
    {
     "data": {
      "text/html": [
       "4185.26316840452"
      ],
      "text/latex": [
       "4185.26316840452"
      ],
      "text/markdown": [
       "4185.26316840452"
      ],
      "text/plain": [
       "[1] 4185.263"
      ]
     },
     "metadata": {},
     "output_type": "display_data"
    },
    {
     "data": {
      "text/html": [
       "45839.3099238794"
      ],
      "text/latex": [
       "45839.3099238794"
      ],
      "text/markdown": [
       "45839.3099238794"
      ],
      "text/plain": [
       "[1] 45839.31"
      ]
     },
     "metadata": {},
     "output_type": "display_data"
    },
    {
     "data": {
      "text/html": [
       "50024.573092284"
      ],
      "text/latex": [
       "50024.573092284"
      ],
      "text/markdown": [
       "50024.573092284"
      ],
      "text/plain": [
       "[1] 50024.57"
      ]
     },
     "metadata": {},
     "output_type": "display_data"
    },
    {
     "data": {
      "text/html": [
       "4185.26316840452"
      ],
      "text/latex": [
       "4185.26316840452"
      ],
      "text/markdown": [
       "4185.26316840452"
      ],
      "text/plain": [
       "[1] 4185.263"
      ]
     },
     "metadata": {},
     "output_type": "display_data"
    },
    {
     "data": {
      "text/html": [
       "7"
      ],
      "text/latex": [
       "7"
      ],
      "text/markdown": [
       "7"
      ],
      "text/plain": [
       "[1] 7"
      ]
     },
     "metadata": {},
     "output_type": "display_data"
    },
    {
     "data": {
      "text/html": [
       "324"
      ],
      "text/latex": [
       "324"
      ],
      "text/markdown": [
       "324"
      ],
      "text/plain": [
       "[1] 324"
      ]
     },
     "metadata": {},
     "output_type": "display_data"
    },
    {
     "data": {
      "text/html": [
       "0.914482534685603"
      ],
      "text/latex": [
       "0.914482534685603"
      ],
      "text/markdown": [
       "0.914482534685603"
      ],
      "text/plain": [
       "[1] 0.9144825"
      ]
     },
     "metadata": {},
     "output_type": "display_data"
    },
    {
     "data": {
      "text/plain": [
       "\n",
       "Call:\n",
       "lm(formula = aprice ~ ., data = df)\n",
       "\n",
       "Residuals:\n",
       "     Min       1Q   Median       3Q      Max \n",
       "-20.3927  -1.8341  -0.3855   1.4233  22.2885 \n",
       "\n",
       "Coefficients:\n",
       "             Estimate Std. Error t value Pr(>|t|)    \n",
       "(Intercept) -1.790394   2.483623  -0.721  0.47152    \n",
       "lprice       0.854647   0.018251  46.828  < 2e-16 ***\n",
       "pages       -0.001128   0.002471  -0.456  0.64840    \n",
       "width        0.158748   0.307261   0.517  0.60576    \n",
       "weight      -0.071535   0.048775  -1.467  0.14347    \n",
       "height      -0.030707   0.285790  -0.107  0.91450    \n",
       "thick       -1.677617   1.132703  -1.481  0.13958    \n",
       "coverP       1.489428   0.569327   2.616  0.00932 ** \n",
       "---\n",
       "Signif. codes:  0 ‘***’ 0.001 ‘**’ 0.01 ‘*’ 0.05 ‘.’ 0.1 ‘ ’ 1\n",
       "\n",
       "Residual standard error: 3.639 on 316 degrees of freedom\n",
       "Multiple R-squared:  0.9163,\tAdjusted R-squared:  0.9145 \n",
       "F-statistic: 494.4 on 7 and 316 DF,  p-value: < 2.2e-16\n"
      ]
     },
     "metadata": {},
     "output_type": "display_data"
    }
   ],
   "source": [
    "lmod.full <- lm(aprice ~ ., data = df)\n",
    "p <- length(lmod.full$coefficients) - 1\n",
    "n <- nrow(df)\n",
    "rss <- sum(resid(lmod.full)^2)\n",
    "ess <- sum((fitted(lmod.full) - mean(df$aprice))^2)\n",
    "tss <- with(df, sum((df$aprice - mean(df$aprice))^2))\n",
    "dev <- deviance(lmod.full)\n",
    "rss\n",
    "ess\n",
    "tss\n",
    "dev\n",
    "p\n",
    "n\n",
    "\n",
    "#AIC.full = 2*(p + 1) + (n * log(rss / n))\n",
    "AIC.full = AIC(lmod.full)\n",
    "BIC.full = BIC(lmod.full)\n",
    "#BIC.full = (log(n) * (p + 1)) + (n * log(rss / n))\n",
    "#adj.R2.full = summary(lmod.full)$adj.r.squared\n",
    "adj.R2.full = 1 - (rss / (n - (p + 1))) / (tss / (n-1))\n",
    "#AIC.full\n",
    "#BIC.full\n",
    "adj.R2.full\n",
    "summary(lmod.full)\n",
    "# your code here\n"
   ]
  },
  {
   "cell_type": "code",
   "execution_count": 6,
   "metadata": {
    "deletable": false,
    "editable": false,
    "nbgrader": {
     "cell_type": "code",
     "checksum": "800f3404782287360cc7f0697de23575",
     "grade": true,
     "grade_id": "cell-d1c1f638e818be86",
     "locked": true,
     "points": 5,
     "schema_version": 3,
     "solution": false,
     "task": false
    }
   },
   "outputs": [
    {
     "name": "stdout",
     "output_type": "stream",
     "text": [
      "[1] \"Correct number of parameters in the model.\"\n"
     ]
    }
   ],
   "source": [
    "# Test Cell\n",
    "# Check that the correct number of predictors were used in the model.\n",
    "if(test_that(\"Check number of model parameters.\", expect_equal(length(lmod.full$coefficients), 8))){\n",
    "    print(\"Correct number of parameters in the model.\")\n",
    "}else{\n",
    "    print(\"Make sure you're not using the Port column!\")\n",
    "}\n",
    "# This cell has hidden test cases that will run after submission."
   ]
  },
  {
   "cell_type": "code",
   "execution_count": 7,
   "metadata": {
    "deletable": false,
    "editable": false,
    "nbgrader": {
     "cell_type": "code",
     "checksum": "d3f3ddea488eaf2f20b67a482fa813d6",
     "grade": true,
     "grade_id": "cell-869dfb6b0ab82f6b",
     "locked": true,
     "points": 5,
     "schema_version": 3,
     "solution": false,
     "task": false
    }
   },
   "outputs": [],
   "source": [
    "# Test Cell\n",
    "# This cell has hidden test cases that will run after submission."
   ]
  },
  {
   "cell_type": "code",
   "execution_count": 8,
   "metadata": {
    "deletable": false,
    "editable": false,
    "nbgrader": {
     "cell_type": "code",
     "checksum": "1b962a82095f6dbecfad509781531f9c",
     "grade": true,
     "grade_id": "cell-be51f8eb90627ca6",
     "locked": true,
     "points": 5,
     "schema_version": 3,
     "solution": false,
     "task": false
    }
   },
   "outputs": [],
   "source": [
    "# Test Cell\n",
    "# This cell has hidden test cases that will run after submission."
   ]
  },
  {
   "cell_type": "markdown",
   "metadata": {
    "deletable": false,
    "editable": false,
    "nbgrader": {
     "cell_type": "markdown",
     "checksum": "defdd4a43f7399c7baf9d8fae123f14c",
     "grade": false,
     "grade_id": "cell-4c475e85c54cd756",
     "locked": true,
     "schema_version": 3,
     "solution": false,
     "task": false
    }
   },
   "source": [
    "### 1. (b) A Partial Model (15 points)\n",
    "\n",
    "Fit a partial model to the data, with `aprice` as the response and `lprice`, and `pages` as predictors. Calculate the AIC, BIC and adjusted $R^2$ for this partial model. Store their values in `AIC.part`, `BIC.part` and `adj.R2.part` respectively."
   ]
  },
  {
   "cell_type": "code",
   "execution_count": 9,
   "metadata": {
    "deletable": false,
    "nbgrader": {
     "cell_type": "code",
     "checksum": "82a8929263a864de22d9df396fb3e732",
     "grade": false,
     "grade_id": "cell-39ee83e163b9c32e",
     "locked": false,
     "schema_version": 3,
     "solution": true,
     "task": false
    }
   },
   "outputs": [
    {
     "data": {
      "text/plain": [
       "\n",
       "Call:\n",
       "lm(formula = aprice ~ lprice + pages, data = df)\n",
       "\n",
       "Residuals:\n",
       "     Min       1Q   Median       3Q      Max \n",
       "-19.0969  -1.8256  -0.0329   1.4436  23.3954 \n",
       "\n",
       "Coefficients:\n",
       "             Estimate Std. Error t value Pr(>|t|)    \n",
       "(Intercept) -0.727973   0.516361  -1.410     0.16    \n",
       "lprice       0.844690   0.015127  55.841  < 2e-16 ***\n",
       "pages       -0.005824   0.001333  -4.369 1.69e-05 ***\n",
       "---\n",
       "Signif. codes:  0 ‘***’ 0.001 ‘**’ 0.01 ‘*’ 0.05 ‘.’ 0.1 ‘ ’ 1\n",
       "\n",
       "Residual standard error: 3.775 on 321 degrees of freedom\n",
       "Multiple R-squared:  0.9086,\tAdjusted R-squared:  0.908 \n",
       "F-statistic:  1595 on 2 and 321 DF,  p-value: < 2.2e-16\n"
      ]
     },
     "metadata": {},
     "output_type": "display_data"
    },
    {
     "data": {
      "text/html": [
       "2"
      ],
      "text/latex": [
       "2"
      ],
      "text/markdown": [
       "2"
      ],
      "text/plain": [
       "[1] 2"
      ]
     },
     "metadata": {},
     "output_type": "display_data"
    },
    {
     "data": {
      "text/html": [
       "4574.15313357038"
      ],
      "text/latex": [
       "4574.15313357038"
      ],
      "text/markdown": [
       "4574.15313357038"
      ],
      "text/plain": [
       "[1] 4574.153"
      ]
     },
     "metadata": {},
     "output_type": "display_data"
    },
    {
     "data": {
      "text/html": [
       "0.907992167738236"
      ],
      "text/latex": [
       "0.907992167738236"
      ],
      "text/markdown": [
       "0.907992167738236"
      ],
      "text/plain": [
       "[1] 0.9079922"
      ]
     },
     "metadata": {},
     "output_type": "display_data"
    }
   ],
   "source": [
    "lmod.part <- lm(aprice ~ lprice + pages, data = df)\n",
    "summary(lmod.part)\n",
    "\n",
    "p2 <- length(lmod.part$coefficients) - 1\n",
    "rss2 <- sum(resid(lmod.part)^2)\n",
    "#tss2 <- with(df, sum((df$aprice - mean(df$aprice))^2))\n",
    "p2\n",
    "rss2\n",
    "#tss2\n",
    "\n",
    "#AIC.part = 2*(p2 + 1) + (n * log(rss2 / n))\n",
    "#BIC.part = (log(n) * (p2 + 1)) + (n * log(rss2 / n))\n",
    "AIC.part = AIC(lmod.part)\n",
    "BIC.part = BIC(lmod.part)\n",
    "adj.R2.part = 1 - (rss2 / (n - (p2 + 1))) / (tss / (n-1))\n",
    "#AIC.part\n",
    "#BIC.part\n",
    "adj.R2.part\n",
    "# your code here\n"
   ]
  },
  {
   "cell_type": "code",
   "execution_count": 10,
   "metadata": {
    "deletable": false,
    "editable": false,
    "nbgrader": {
     "cell_type": "code",
     "checksum": "8c4537af700433203ce9accdbacf1622",
     "grade": true,
     "grade_id": "cell-459282508ecfd8ae",
     "locked": true,
     "points": 5,
     "schema_version": 3,
     "solution": false,
     "task": false
    }
   },
   "outputs": [],
   "source": [
    "# Test Cell\n",
    "# This cell has hidden test cases that will run after submission."
   ]
  },
  {
   "cell_type": "code",
   "execution_count": 11,
   "metadata": {
    "deletable": false,
    "editable": false,
    "nbgrader": {
     "cell_type": "code",
     "checksum": "600ca4da56ba05922413150dd758338b",
     "grade": true,
     "grade_id": "cell-aa87e802b1e83306",
     "locked": true,
     "points": 5,
     "schema_version": 3,
     "solution": false,
     "task": false
    }
   },
   "outputs": [],
   "source": [
    "# Test Cell\n",
    "# This cell has hidden test cases that will run after submission."
   ]
  },
  {
   "cell_type": "code",
   "execution_count": 12,
   "metadata": {
    "deletable": false,
    "editable": false,
    "nbgrader": {
     "cell_type": "code",
     "checksum": "aca311060d0a23db31ce14f1571014de",
     "grade": true,
     "grade_id": "cell-1e60528fc2bc2409",
     "locked": true,
     "points": 5,
     "schema_version": 3,
     "solution": false,
     "task": false
    }
   },
   "outputs": [],
   "source": [
    "# Test Cell\n",
    "# This cell has hidden test cases that will run after submission."
   ]
  },
  {
   "cell_type": "markdown",
   "metadata": {
    "deletable": false,
    "editable": false,
    "nbgrader": {
     "cell_type": "markdown",
     "checksum": "1321e58ce9226c9bfa183f91213c4be3",
     "grade": false,
     "grade_id": "cell-33a2d5172bf5e191",
     "locked": true,
     "schema_version": 3,
     "solution": false,
     "task": false
    }
   },
   "source": [
    "### 1. (c) Model Selection (10 points)\n",
    "\n",
    "Which model is better, `lmod.full` or `lmod.part` according to AIC, BIC, and $R^2_a$? Note that the answer may or may not be different across the different criteria. Save your selections as `selected.model.AIC`, `selected.model.BIC`, and `selected.model.adj.R2`."
   ]
  },
  {
   "cell_type": "code",
   "execution_count": 13,
   "metadata": {
    "deletable": false,
    "nbgrader": {
     "cell_type": "code",
     "checksum": "d0100b1c4cd40bc2f993f9dfbf4164d3",
     "grade": false,
     "grade_id": "cell-be9c28ff95c8f889",
     "locked": false,
     "schema_version": 3,
     "solution": true,
     "task": false
    }
   },
   "outputs": [],
   "source": [
    "selected.model.AIC = lmod.full\n",
    "selected.model.BIC = lmod.part\n",
    "selected.model.adj.R2 = lmod.part\n",
    "# your code here\n"
   ]
  },
  {
   "cell_type": "code",
   "execution_count": 14,
   "metadata": {
    "deletable": false,
    "editable": false,
    "nbgrader": {
     "cell_type": "code",
     "checksum": "365d5695b846bd7f370e8d18ac0b39a8",
     "grade": true,
     "grade_id": "cell-857ab58a12789785",
     "locked": true,
     "points": 10,
     "schema_version": 3,
     "solution": false,
     "task": false
    }
   },
   "outputs": [],
   "source": [
    "# Test Cell\n",
    "# This cell has hidden test cases that will run after submission."
   ]
  },
  {
   "cell_type": "markdown",
   "metadata": {
    "deletable": false,
    "editable": false,
    "nbgrader": {
     "cell_type": "markdown",
     "checksum": "730fccae8fcd4ebe0de98e30c4670518",
     "grade": false,
     "grade_id": "cell-2353f829d40c1c18",
     "locked": true,
     "schema_version": 3,
     "solution": false,
     "task": false
    }
   },
   "source": [
    "### 1. (d) Model Validation (5 points)\n",
    "\n",
    "Recall that a simpler model may perform statistically worse than a larger model. Test whether there is a statistically significant difference between `lmod.part` and `lmod.full`. Based on the result of this test, what model should you use? Save your answer as `validated.model`."
   ]
  },
  {
   "cell_type": "code",
   "execution_count": 15,
   "metadata": {
    "deletable": false,
    "nbgrader": {
     "cell_type": "code",
     "checksum": "c94de1df07df81c172f5fa07fc4a8851",
     "grade": false,
     "grade_id": "cell-2867adca6b5a00d5",
     "locked": false,
     "schema_version": 3,
     "solution": true,
     "task": false
    }
   },
   "outputs": [
    {
     "data": {
      "text/html": [
       "<table>\n",
       "<caption>A anova: 2 × 6</caption>\n",
       "<thead>\n",
       "\t<tr><th></th><th scope=col>Res.Df</th><th scope=col>RSS</th><th scope=col>Df</th><th scope=col>Sum of Sq</th><th scope=col>F</th><th scope=col>Pr(&gt;F)</th></tr>\n",
       "\t<tr><th></th><th scope=col>&lt;dbl&gt;</th><th scope=col>&lt;dbl&gt;</th><th scope=col>&lt;dbl&gt;</th><th scope=col>&lt;dbl&gt;</th><th scope=col>&lt;dbl&gt;</th><th scope=col>&lt;dbl&gt;</th></tr>\n",
       "</thead>\n",
       "<tbody>\n",
       "\t<tr><th scope=row>1</th><td>321</td><td>4574.153</td><td>NA</td><td>    NA</td><td>      NA</td><td>          NA</td></tr>\n",
       "\t<tr><th scope=row>2</th><td>316</td><td>4185.263</td><td> 5</td><td>388.89</td><td>5.872473</td><td>3.312548e-05</td></tr>\n",
       "</tbody>\n",
       "</table>\n"
      ],
      "text/latex": [
       "A anova: 2 × 6\n",
       "\\begin{tabular}{r|llllll}\n",
       "  & Res.Df & RSS & Df & Sum of Sq & F & Pr(>F)\\\\\n",
       "  & <dbl> & <dbl> & <dbl> & <dbl> & <dbl> & <dbl>\\\\\n",
       "\\hline\n",
       "\t1 & 321 & 4574.153 & NA &     NA &       NA &           NA\\\\\n",
       "\t2 & 316 & 4185.263 &  5 & 388.89 & 5.872473 & 3.312548e-05\\\\\n",
       "\\end{tabular}\n"
      ],
      "text/markdown": [
       "\n",
       "A anova: 2 × 6\n",
       "\n",
       "| <!--/--> | Res.Df &lt;dbl&gt; | RSS &lt;dbl&gt; | Df &lt;dbl&gt; | Sum of Sq &lt;dbl&gt; | F &lt;dbl&gt; | Pr(&gt;F) &lt;dbl&gt; |\n",
       "|---|---|---|---|---|---|---|\n",
       "| 1 | 321 | 4574.153 | NA |     NA |       NA |           NA |\n",
       "| 2 | 316 | 4185.263 |  5 | 388.89 | 5.872473 | 3.312548e-05 |\n",
       "\n"
      ],
      "text/plain": [
       "  Res.Df RSS      Df Sum of Sq F        Pr(>F)      \n",
       "1 321    4574.153 NA     NA          NA           NA\n",
       "2 316    4185.263  5 388.89    5.872473 3.312548e-05"
      ]
     },
     "metadata": {},
     "output_type": "display_data"
    }
   ],
   "source": [
    "anova(lmod.part, lmod.full)\n",
    "\n",
    "validated.model = lmod.full\n",
    "\n",
    "# your code here\n"
   ]
  },
  {
   "cell_type": "code",
   "execution_count": 16,
   "metadata": {
    "deletable": false,
    "editable": false,
    "nbgrader": {
     "cell_type": "code",
     "checksum": "f088e933059b51b7de183748d046fcc0",
     "grade": true,
     "grade_id": "cell-e5d91693e455c234",
     "locked": true,
     "points": 5,
     "schema_version": 3,
     "solution": false,
     "task": false
    }
   },
   "outputs": [],
   "source": [
    "# Test Cell\n",
    "# This cell has hidden test cases that will run after submission."
   ]
  },
  {
   "cell_type": "markdown",
   "metadata": {
    "deletable": false,
    "editable": false,
    "nbgrader": {
     "cell_type": "markdown",
     "checksum": "b596a026bf5e98ed0a3b47d133ef984e",
     "grade": false,
     "grade_id": "cell-56e4472fd47f4a3e",
     "locked": true,
     "schema_version": 3,
     "solution": false,
     "task": false
    }
   },
   "source": [
    "## Problem 2\n",
    "\n",
    "`divorce` is a data frame with 77 observations on the following 7 variables.\n",
    "\n",
    "1. `year`: the year from 1920-1996\n",
    "\n",
    "2. `divorce`: divorce per 1000 women aged 15 or more \n",
    "\n",
    "3. `unemployed` unemployment rate \n",
    "\n",
    "4. `femlab`: percent female participation in labor force aged 16+\n",
    "\n",
    "5. `marriage`: marriages per 1000 unmarried women aged 16+ \n",
    "\n",
    "6. `birth`: births per 1000 women aged 15-44 \n",
    "\n",
    "7. `military`: military personnel per 1000 population\n",
    "\n",
    "Here's the data:"
   ]
  },
  {
   "cell_type": "code",
   "execution_count": 17,
   "metadata": {
    "deletable": false,
    "editable": false,
    "nbgrader": {
     "cell_type": "code",
     "checksum": "a133653a92b256710083b43b623d5001",
     "grade": false,
     "grade_id": "cell-9b2945e2d8a15691",
     "locked": true,
     "schema_version": 3,
     "solution": false,
     "task": false
    }
   },
   "outputs": [
    {
     "data": {
      "text/plain": [
       "      year         divorce        unemployed         femlab     \n",
       " Min.   :1920   Min.   : 6.10   Min.   : 1.200   Min.   :22.70  \n",
       " 1st Qu.:1939   1st Qu.: 8.70   1st Qu.: 4.200   1st Qu.:27.47  \n",
       " Median :1958   Median :10.60   Median : 5.600   Median :37.10  \n",
       " Mean   :1958   Mean   :13.27   Mean   : 7.173   Mean   :38.58  \n",
       " 3rd Qu.:1977   3rd Qu.:20.30   3rd Qu.: 7.500   3rd Qu.:47.80  \n",
       " Max.   :1996   Max.   :22.80   Max.   :24.900   Max.   :59.30  \n",
       "    marriage          birth           military     \n",
       " Min.   : 49.70   Min.   : 65.30   Min.   : 1.940  \n",
       " 1st Qu.: 61.90   1st Qu.: 68.90   1st Qu.: 3.469  \n",
       " Median : 74.10   Median : 85.90   Median : 9.102  \n",
       " Mean   : 72.97   Mean   : 88.89   Mean   :12.365  \n",
       " 3rd Qu.: 80.00   3rd Qu.:107.30   3rd Qu.:14.266  \n",
       " Max.   :118.10   Max.   :122.90   Max.   :86.641  "
      ]
     },
     "metadata": {},
     "output_type": "display_data"
    },
    {
     "data": {
      "text/html": [
       "<table>\n",
       "<caption>A data.frame: 6 × 7</caption>\n",
       "<thead>\n",
       "\t<tr><th></th><th scope=col>year</th><th scope=col>divorce</th><th scope=col>unemployed</th><th scope=col>femlab</th><th scope=col>marriage</th><th scope=col>birth</th><th scope=col>military</th></tr>\n",
       "\t<tr><th></th><th scope=col>&lt;int&gt;</th><th scope=col>&lt;dbl&gt;</th><th scope=col>&lt;dbl&gt;</th><th scope=col>&lt;dbl&gt;</th><th scope=col>&lt;dbl&gt;</th><th scope=col>&lt;dbl&gt;</th><th scope=col>&lt;dbl&gt;</th></tr>\n",
       "</thead>\n",
       "<tbody>\n",
       "\t<tr><th scope=row>1</th><td>1920</td><td>8.0</td><td> 5.2</td><td>22.70</td><td>92.0</td><td>117.9</td><td>3.2247</td></tr>\n",
       "\t<tr><th scope=row>2</th><td>1921</td><td>7.2</td><td>11.7</td><td>22.79</td><td>83.0</td><td>119.8</td><td>3.5614</td></tr>\n",
       "\t<tr><th scope=row>3</th><td>1922</td><td>6.6</td><td> 6.7</td><td>22.88</td><td>79.7</td><td>111.2</td><td>2.4553</td></tr>\n",
       "\t<tr><th scope=row>4</th><td>1923</td><td>7.1</td><td> 2.4</td><td>22.97</td><td>85.2</td><td>110.5</td><td>2.2065</td></tr>\n",
       "\t<tr><th scope=row>5</th><td>1924</td><td>7.2</td><td> 5.0</td><td>23.06</td><td>80.3</td><td>110.9</td><td>2.2889</td></tr>\n",
       "\t<tr><th scope=row>6</th><td>1925</td><td>7.2</td><td> 3.2</td><td>23.15</td><td>79.2</td><td>106.6</td><td>2.1735</td></tr>\n",
       "</tbody>\n",
       "</table>\n"
      ],
      "text/latex": [
       "A data.frame: 6 × 7\n",
       "\\begin{tabular}{r|lllllll}\n",
       "  & year & divorce & unemployed & femlab & marriage & birth & military\\\\\n",
       "  & <int> & <dbl> & <dbl> & <dbl> & <dbl> & <dbl> & <dbl>\\\\\n",
       "\\hline\n",
       "\t1 & 1920 & 8.0 &  5.2 & 22.70 & 92.0 & 117.9 & 3.2247\\\\\n",
       "\t2 & 1921 & 7.2 & 11.7 & 22.79 & 83.0 & 119.8 & 3.5614\\\\\n",
       "\t3 & 1922 & 6.6 &  6.7 & 22.88 & 79.7 & 111.2 & 2.4553\\\\\n",
       "\t4 & 1923 & 7.1 &  2.4 & 22.97 & 85.2 & 110.5 & 2.2065\\\\\n",
       "\t5 & 1924 & 7.2 &  5.0 & 23.06 & 80.3 & 110.9 & 2.2889\\\\\n",
       "\t6 & 1925 & 7.2 &  3.2 & 23.15 & 79.2 & 106.6 & 2.1735\\\\\n",
       "\\end{tabular}\n"
      ],
      "text/markdown": [
       "\n",
       "A data.frame: 6 × 7\n",
       "\n",
       "| <!--/--> | year &lt;int&gt; | divorce &lt;dbl&gt; | unemployed &lt;dbl&gt; | femlab &lt;dbl&gt; | marriage &lt;dbl&gt; | birth &lt;dbl&gt; | military &lt;dbl&gt; |\n",
       "|---|---|---|---|---|---|---|---|\n",
       "| 1 | 1920 | 8.0 |  5.2 | 22.70 | 92.0 | 117.9 | 3.2247 |\n",
       "| 2 | 1921 | 7.2 | 11.7 | 22.79 | 83.0 | 119.8 | 3.5614 |\n",
       "| 3 | 1922 | 6.6 |  6.7 | 22.88 | 79.7 | 111.2 | 2.4553 |\n",
       "| 4 | 1923 | 7.1 |  2.4 | 22.97 | 85.2 | 110.5 | 2.2065 |\n",
       "| 5 | 1924 | 7.2 |  5.0 | 23.06 | 80.3 | 110.9 | 2.2889 |\n",
       "| 6 | 1925 | 7.2 |  3.2 | 23.15 | 79.2 | 106.6 | 2.1735 |\n",
       "\n"
      ],
      "text/plain": [
       "  year divorce unemployed femlab marriage birth military\n",
       "1 1920 8.0      5.2       22.70  92.0     117.9 3.2247  \n",
       "2 1921 7.2     11.7       22.79  83.0     119.8 3.5614  \n",
       "3 1922 6.6      6.7       22.88  79.7     111.2 2.4553  \n",
       "4 1923 7.1      2.4       22.97  85.2     110.5 2.2065  \n",
       "5 1924 7.2      5.0       23.06  80.3     110.9 2.2889  \n",
       "6 1925 7.2      3.2       23.15  79.2     106.6 2.1735  "
      ]
     },
     "metadata": {},
     "output_type": "display_data"
    }
   ],
   "source": [
    "# Load in the data\n",
    "divorce = read.csv(\"divusa.txt\", sep=\"\\t\")\n",
    "summary(divorce)\n",
    "head(divorce)"
   ]
  },
  {
   "cell_type": "markdown",
   "metadata": {
    "deletable": false,
    "editable": false,
    "nbgrader": {
     "cell_type": "markdown",
     "checksum": "0a43f5dee4541c0a83b18b0bab80b7f5",
     "grade": false,
     "grade_id": "cell-96dd4285a9267ea8",
     "locked": true,
     "schema_version": 3,
     "solution": false,
     "task": false
    }
   },
   "source": [
    "### 2 (a) (10 points) \n",
    "\n",
    "Using the `divorce` data, with `divorce` as the response and all other variables as predictors, select the \"best\" regression model, where \"best\" is defined using AIC. Save your final model as `lm_divorce`.**"
   ]
  },
  {
   "cell_type": "code",
   "execution_count": 18,
   "metadata": {
    "deletable": false,
    "nbgrader": {
     "cell_type": "code",
     "checksum": "c360938b03ae5fec5f1bea1354f3bfe5",
     "grade": false,
     "grade_id": "cell-26c07cf4e4547d9d",
     "locked": false,
     "schema_version": 3,
     "solution": true,
     "task": false
    }
   },
   "outputs": [
    {
     "data": {
      "text/plain": [
       "Subset selection object\n",
       "Call: regsubsets.formula(divorce ~ ., data = divorce)\n",
       "6 Variables  (and intercept)\n",
       "           Forced in Forced out\n",
       "year           FALSE      FALSE\n",
       "unemployed     FALSE      FALSE\n",
       "femlab         FALSE      FALSE\n",
       "marriage       FALSE      FALSE\n",
       "birth          FALSE      FALSE\n",
       "military       FALSE      FALSE\n",
       "1 subsets of each size up to 6\n",
       "Selection Algorithm: exhaustive\n",
       "         year unemployed femlab marriage birth military\n",
       "1  ( 1 ) \" \"  \" \"        \"*\"    \" \"      \" \"   \" \"     \n",
       "2  ( 1 ) \" \"  \" \"        \"*\"    \" \"      \"*\"   \" \"     \n",
       "3  ( 1 ) \" \"  \" \"        \"*\"    \"*\"      \"*\"   \" \"     \n",
       "4  ( 1 ) \"*\"  \" \"        \"*\"    \"*\"      \"*\"   \" \"     \n",
       "5  ( 1 ) \"*\"  \" \"        \"*\"    \"*\"      \"*\"   \"*\"     \n",
       "6  ( 1 ) \"*\"  \"*\"        \"*\"    \"*\"      \"*\"   \"*\"     "
      ]
     },
     "metadata": {},
     "output_type": "display_data"
    },
    {
     "data": {
      "text/html": [
       "134.278386189223"
      ],
      "text/latex": [
       "134.278386189223"
      ],
      "text/markdown": [
       "134.278386189223"
      ],
      "text/plain": [
       "[1] 134.2784"
      ]
     },
     "metadata": {},
     "output_type": "display_data"
    },
    {
     "data": {
      "text/html": [
       "111.833826327217"
      ],
      "text/latex": [
       "111.833826327217"
      ],
      "text/markdown": [
       "111.833826327217"
      ],
      "text/plain": [
       "[1] 111.8338"
      ]
     },
     "metadata": {},
     "output_type": "display_data"
    },
    {
     "data": {
      "text/html": [
       "85.1959268197224"
      ],
      "text/latex": [
       "85.1959268197224"
      ],
      "text/markdown": [
       "85.1959268197224"
      ],
      "text/plain": [
       "[1] 85.19593"
      ]
     },
     "metadata": {},
     "output_type": "display_data"
    },
    {
     "data": {
      "text/html": [
       "76.6910086147714"
      ],
      "text/latex": [
       "76.6910086147714"
      ],
      "text/markdown": [
       "76.6910086147714"
      ],
      "text/plain": [
       "[1] 76.69101"
      ]
     },
     "metadata": {},
     "output_type": "display_data"
    },
    {
     "data": {
      "text/html": [
       "69.3302671791778"
      ],
      "text/latex": [
       "69.3302671791778"
      ],
      "text/markdown": [
       "69.3302671791778"
      ],
      "text/plain": [
       "[1] 69.33027"
      ]
     },
     "metadata": {},
     "output_type": "display_data"
    },
    {
     "data": {
      "text/html": [
       "70.4103394869252"
      ],
      "text/latex": [
       "70.4103394869252"
      ],
      "text/markdown": [
       "70.4103394869252"
      ],
      "text/plain": [
       "[1] 70.41034"
      ]
     },
     "metadata": {},
     "output_type": "display_data"
    }
   ],
   "source": [
    "models <- regsubsets(divorce ~ ., data = divorce)\n",
    "rs <- summary(models)\n",
    "rs\n",
    "\n",
    "n2 <- dim(divorce)[1]\n",
    "\n",
    "mod.1 <- lm(divorce ~ femlab, data = divorce)\n",
    "mod.2 <- lm(divorce ~ femlab + birth, data = divorce)\n",
    "mod.3 <- lm(divorce ~ femlab + birth + marriage, data = divorce)\n",
    "mod.4 <- lm(divorce ~ femlab + birth + marriage + year, data = divorce)\n",
    "mod.5 <- lm(divorce ~ . - unemployed, data = divorce)\n",
    "mod.6 <- lm(divorce ~ ., data = divorce)\n",
    "\n",
    "AIC.1 = 2*(length(mod.1$coefficients)) + (n2 * log(sum(resid(mod.1)^2) / n2))\n",
    "AIC.1\n",
    "\n",
    "AIC.2 = 2*(length(mod.2$coefficients)) + (n2 * log(sum(resid(mod.2)^2) / n2))\n",
    "AIC.2\n",
    "\n",
    "AIC.3 = 2*(length(mod.3$coefficients)) + (n2 * log(sum(resid(mod.3)^2) / n2))\n",
    "AIC.3\n",
    "\n",
    "AIC.4 = 2*(length(mod.4$coefficients)) + (n2 * log(sum(resid(mod.4)^2) / n2))\n",
    "AIC.4\n",
    "\n",
    "AIC.5 = 2*(length(mod.5$coefficients)) + (n2 * log(sum(resid(mod.5)^2) / n2))\n",
    "AIC.5\n",
    "\n",
    "AIC.6 = 2*(length(mod.6$coefficients)) + (n2 * log(sum(resid(mod.6)^2) / n2))\n",
    "AIC.6\n",
    "\n",
    "lm_divorce <- mod.6\n",
    "#lm_divorce = lm(divorce ~ marriage, data = divorce)\n",
    "\n",
    "# your code here\n",
    "\n"
   ]
  },
  {
   "cell_type": "code",
   "execution_count": 19,
   "metadata": {
    "deletable": false,
    "editable": false,
    "nbgrader": {
     "cell_type": "code",
     "checksum": "c807df6394d80252b5cc981cc805cdda",
     "grade": true,
     "grade_id": "cell-83d568c2432e15d1",
     "locked": true,
     "points": 10,
     "schema_version": 3,
     "solution": false,
     "task": false
    }
   },
   "outputs": [],
   "source": [
    "# Test Cell\n",
    "# This cell has hidden test cases that will run after submission."
   ]
  },
  {
   "cell_type": "markdown",
   "metadata": {
    "deletable": false,
    "editable": false,
    "nbgrader": {
     "cell_type": "markdown",
     "checksum": "8044ffc459b08701e243abd2b5501b98",
     "grade": false,
     "grade_id": "cell-d1a2bcd1aec686d9",
     "locked": true,
     "schema_version": 3,
     "solution": false,
     "task": false
    }
   },
   "source": [
    "### 2 (b) (10 points) \n",
    "\n",
    "Using your model from part (a), compute the variance inflation factors VIFs for each $\\widehat\\beta_j$, $j = 1,...,p$. Store them in the variable `v`. Also, compute the condition number for the design matrix, stored in `k`. Is there evidence that collinearity causes some predictors not to be significant?"
   ]
  },
  {
   "cell_type": "code",
   "execution_count": 32,
   "metadata": {
    "deletable": false,
    "nbgrader": {
     "cell_type": "code",
     "checksum": "5691802daced999f330d9935e55f3146",
     "grade": false,
     "grade_id": "cell-7dba890a66daad63",
     "locked": false,
     "schema_version": 3,
     "solution": true,
     "task": false
    }
   },
   "outputs": [
    {
     "data": {
      "text/html": [
       "<style>\n",
       ".dl-inline {width: auto; margin:0; padding: 0}\n",
       ".dl-inline>dt, .dl-inline>dd {float: none; width: auto; display: inline-block}\n",
       ".dl-inline>dt::after {content: \":\\0020\"; padding-right: .5ex}\n",
       ".dl-inline>dt:not(:first-of-type) {padding-left: .5ex}\n",
       "</style><dl class=dl-inline><dt>year</dt><dd>42.9482669472054</dd><dt>femlab</dt><dd>48.6509347631077</dd><dt>marriage</dt><dd>2.62453070971822</dd><dt>birth</dt><dd>2.03167683563951</dd><dt>military</dt><dd>1.35800179637071</dd></dl>\n"
      ],
      "text/latex": [
       "\\begin{description*}\n",
       "\\item[year] 42.9482669472054\n",
       "\\item[femlab] 48.6509347631077\n",
       "\\item[marriage] 2.62453070971822\n",
       "\\item[birth] 2.03167683563951\n",
       "\\item[military] 1.35800179637071\n",
       "\\end{description*}\n"
      ],
      "text/markdown": [
       "year\n",
       ":   42.9482669472054femlab\n",
       ":   48.6509347631077marriage\n",
       ":   2.62453070971822birth\n",
       ":   2.03167683563951military\n",
       ":   1.35800179637071\n",
       "\n"
      ],
      "text/plain": [
       "     year    femlab  marriage     birth  military \n",
       "42.948267 48.650935  2.624531  2.031677  1.358002 "
      ]
     },
     "metadata": {},
     "output_type": "display_data"
    },
    {
     "data": {
      "text/html": [
       "<style>\n",
       ".list-inline {list-style: none; margin:0; padding: 0}\n",
       ".list-inline>li {display: inline-block}\n",
       ".list-inline>li:not(:last-child)::after {content: \"\\00b7\"; padding: 0 .5ex}\n",
       "</style>\n",
       "<ol class=list-inline><li>48.650934763108</li><li>2.03167683563947</li><li>2.62453070971813</li><li>42.9482669472055</li><li>1.35800179637072</li></ol>\n"
      ],
      "text/latex": [
       "\\begin{enumerate*}\n",
       "\\item 48.650934763108\n",
       "\\item 2.03167683563947\n",
       "\\item 2.62453070971813\n",
       "\\item 42.9482669472055\n",
       "\\item 1.35800179637072\n",
       "\\end{enumerate*}\n"
      ],
      "text/markdown": [
       "1. 48.650934763108\n",
       "2. 2.03167683563947\n",
       "3. 2.62453070971813\n",
       "4. 42.9482669472055\n",
       "5. 1.35800179637072\n",
       "\n",
       "\n"
      ],
      "text/plain": [
       "[1] 48.650935  2.031677  2.624531 42.948267  1.358002"
      ]
     },
     "metadata": {},
     "output_type": "display_data"
    },
    {
     "data": {
      "text/html": [
       "1083823.31588993"
      ],
      "text/latex": [
       "1083823.31588993"
      ],
      "text/markdown": [
       "1083823.31588993"
      ],
      "text/plain": [
       "[1] 1083823"
      ]
     },
     "metadata": {},
     "output_type": "display_data"
    }
   ],
   "source": [
    "# your code here\n",
    "beta_1 <- lm(femlab ~ . - divorce - unemployed, data = divorce)\n",
    "beta_2 <- lm(birth ~ . - divorce - unemployed, data = divorce)\n",
    "beta_3 <- lm(marriage ~ . - divorce - unemployed, data = divorce)\n",
    "beta_4 <- lm(year ~ . - divorce - unemployed, data = divorce)\n",
    "beta_5 <- lm(military ~ . - divorce - unemployed, data = divorce)\n",
    "\n",
    "vif_1 <- 1 / (1 - summary(beta_1)$r.squared)\n",
    "vif_2 <- 1 / (1 - summary(beta_2)$r.squared)\n",
    "vif_3 <- 1 / (1 - summary(beta_3)$r.squared)\n",
    "vif_4 <- 1 / (1 - summary(beta_4)$r.squared)\n",
    "vif_5 <- 1 / (1 - summary(beta_5)$r.squared)\n",
    "\n",
    "v2 <- c(vif_1, vif_2, vif_3, vif_4, vif_5)\n",
    "v <- vif(mod.5)\n",
    "v\n",
    "v2\n",
    "X <- model.matrix(lm_divorce)\n",
    "k <- kappa(mod.5, exact = TRUE)\n",
    "k"
   ]
  },
  {
   "cell_type": "code",
   "execution_count": 21,
   "metadata": {
    "deletable": false,
    "editable": false,
    "nbgrader": {
     "cell_type": "code",
     "checksum": "239ae64f28629670661966dd5750866c",
     "grade": true,
     "grade_id": "cell-3044dbc9979b7358",
     "locked": true,
     "points": 10,
     "schema_version": 3,
     "solution": false,
     "task": false
    }
   },
   "outputs": [],
   "source": [
    "# Test Cell\n",
    "# This cell has hidden test cases that will run after submission."
   ]
  },
  {
   "cell_type": "markdown",
   "metadata": {
    "deletable": false,
    "editable": false,
    "nbgrader": {
     "cell_type": "markdown",
     "checksum": "2b49f2a48d192324e661d1ee789352a9",
     "grade": false,
     "grade_id": "cell-48883b2b9186c261",
     "locked": true,
     "schema_version": 3,
     "solution": false,
     "task": false
    }
   },
   "source": [
    "### 2. (c) (5 points) \n",
    "\n",
    "Remove the predictor with the highest VIF. Is multicollinearity still present in the model? If yes, store `TRUE` in `prob.2.c`, and `FALSE` otherwise."
   ]
  },
  {
   "cell_type": "code",
   "execution_count": 22,
   "metadata": {
    "deletable": false,
    "nbgrader": {
     "cell_type": "code",
     "checksum": "125294258f15a1678d71f84f71934d1e",
     "grade": false,
     "grade_id": "cell-58410fcc06d1f35a",
     "locked": false,
     "schema_version": 3,
     "solution": true,
     "task": false
    }
   },
   "outputs": [],
   "source": [
    "prob.2.c = TRUE\n",
    "\n",
    "# your code here\n"
   ]
  },
  {
   "cell_type": "code",
   "execution_count": 23,
   "metadata": {
    "deletable": false,
    "editable": false,
    "nbgrader": {
     "cell_type": "code",
     "checksum": "d69a82e44774425c5d61eb82cd318a61",
     "grade": true,
     "grade_id": "cell-be14e8e33f94fc16",
     "locked": true,
     "points": 5,
     "schema_version": 3,
     "solution": false,
     "task": false
    }
   },
   "outputs": [],
   "source": [
    "# Test Cell\n",
    "# This cell has hidden test cases that will run after submission."
   ]
  }
 ],
 "metadata": {
  "kernelspec": {
   "display_name": "R",
   "language": "R",
   "name": "ir"
  },
  "language_info": {
   "codemirror_mode": "r",
   "file_extension": ".r",
   "mimetype": "text/x-r-source",
   "name": "R",
   "pygments_lexer": "r",
   "version": "3.6.3"
  }
 },
 "nbformat": 4,
 "nbformat_minor": 4
}
